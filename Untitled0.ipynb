{
 "metadata": {
  "name": ""
 },
 "nbformat": 3,
 "nbformat_minor": 0,
 "worksheets": [
  {
   "cells": [
    {
     "cell_type": "code",
     "collapsed": false,
     "input": [
      "import oauth2 as oauth\n",
      "import urllib2\n",
      "import urlparse\n",
      "import os\n",
      "import cgi\n",
      "# consumer = oauth.Consumer(\n",
      "#     key    = 'RxOzz6tE38w',\n",
      "#     secret = '094c3ff0fcfc767e7a8789d5242fa56a48ae78bc')\n",
      "\n",
      "consumer = oauth.Consumer(key=os.getenv(\"UP_client_id\"), secret=os.getenv(\"UP_client_secret\"))\n",
      "\n",
      "# CLIENT_ID = \"RxOzz6tE38w\"\n",
      "# CLIENT_SECRET = \"094c3ff0fcfc767e7a8789d5242fa56a48ae78bc\"\n",
      "\n",
      "CLIENT_ID = os.getenv(\"UP_client_id\") \n",
      "CLIENT_SECRET = os.getenv(\"UP_client_secret\")\n",
      "REDIRECT_URI = \"https://sleepmodel.herokuapp.com/\"\n",
      "base_auth_url = 'https://jawbone.com/auth/oauth2/auth'\n",
      "base_token_url = 'https://jawbone.com/auth/oauth2/token'\n",
      "auth_url2 = 'https://jawbone.com/nudge/api/v.1.0/users/@me'\n",
      "auth_params = \"response_type=code&client_id=\" + CLIENT_ID + \"&scope=basic_read&redirect_uri=\" + REDIRECT_URI\n",
      "client = oauth.Client(consumer)\n",
      "\n",
      "auth_url1 = base_auth_url + \"?\" + auth_params"
     ],
     "language": "python",
     "metadata": {},
     "outputs": [],
     "prompt_number": 2
    },
    {
     "cell_type": "code",
     "collapsed": false,
     "input": [
      "print auth_url1\n",
      "resp, content = client.request(auth_url1)"
     ],
     "language": "python",
     "metadata": {},
     "outputs": [
      {
       "output_type": "stream",
       "stream": "stdout",
       "text": [
        "https://jawbone.com/auth/oauth2/auth?response_type=code&client_id=RxOzz6tE38w&scope=basic_read&redirect_uri=https://sleepmodel.herokuapp.com/\n"
       ]
      }
     ],
     "prompt_number": 3
    },
    {
     "cell_type": "code",
     "collapsed": false,
     "input": [
      "print resp"
     ],
     "language": "python",
     "metadata": {},
     "outputs": [
      {
       "output_type": "stream",
       "stream": "stdout",
       "text": [
        "{'status': '200', 'content-length': '11239', 'content-location': u'https://jawbone.com/auth/oauth2/auth?oauth_body_hash=2jmj7l5rSw0yVb%2FvlWAYkK%2FYBwk%3D&oauth_nonce=85289336&oauth_timestamp=1386648362&oauth_consumer_key=RxOzz6tE38w&oauth_signature_method=HMAC-SHA1&oauth_version=1.0&redirect_uri=https%3A%2F%2Fsleepmodel.herokuapp.com%2F&response_type=code&client_id=RxOzz6tE38w&oauth_signature=50cfFzVv1ITapP1mdFWXO6GsjV4%3D&scope=basic_read', 'set-cookie': 'aid=M35-P8lJr6eao9lgtk7Wt5htZEPJGZYSxvaylCb986L4h6g2bIaqxuHa7RyvHuN2x2DbYr6WIEs; Domain=jawbone.com; expires=Mon, 03 Dec 2018 00:00:00; Path=/', 'accept-ranges': 'bytes', 'vary': 'Accept-Encoding', 'server': 'nginx/1.2.7', 'connection': 'keep-alive', '-content-encoding': 'gzip', 'date': 'Tue, 10 Dec 2013 04:06:02 GMT', 'content-type': 'text/html; charset=utf-8'}\n"
       ]
      }
     ],
     "prompt_number": 4
    },
    {
     "cell_type": "code",
     "collapsed": false,
     "input": [],
     "language": "python",
     "metadata": {},
     "outputs": []
    }
   ],
   "metadata": {}
  }
 ]
}