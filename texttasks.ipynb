{
 "metadata": {
  "name": ""
 },
 "nbformat": 3,
 "nbformat_minor": 0,
 "worksheets": [
  {
   "cells": [
    {
     "cell_type": "code",
     "collapsed": false,
     "input": [
      "# Fetch text data\n",
      "from pattern import web\n",
      "import requests\n",
      "dom = web.Element\n",
      "url = \"http://en.wikipedia.org/wiki/World_population#Population_by_region\"\n",
      "webhtml = requests.get(url).text\n",
      "\n",
      "# Find table elements by table HTML Markups\n",
      "# $('<table>') for jquery\n",
      "# tbls = dom['wikitable']\n",
      "# dom.getElementsByClassname(\"table:wikitable\")\n",
      "print dom.__class__\n",
      "# print tbls"
     ],
     "language": "python",
     "metadata": {},
     "outputs": [
      {
       "output_type": "stream",
       "stream": "stdout",
       "text": [
        "<type 'type'>\n"
       ]
      }
     ],
     "prompt_number": 25
    },
    {
     "cell_type": "code",
     "collapsed": false,
     "input": [
      "import requests\n",
      "from pattern import web\n",
      "url = \"http://www.imdb.com/search/title\"\n",
      "params = dict(sort='num_votes,desc', start=1, \n",
      "             title_type='feature')\n",
      "r = requests.get(url, params=params)\n",
      "print r.url\n",
      "# from BeautifulSoup import BeautifulSoup\n",
      "\n",
      "dom = web.Element(r.text)\n",
      "\n",
      "for mdom in dom.by_tag('td.title'):\n",
      "    title = mdom.by_tag('a')[0].content\n",
      "    year = mdom.by_class('year_type')[0]\n",
      "    print year"
     ],
     "language": "python",
     "metadata": {},
     "outputs": [
      {
       "output_type": "stream",
       "stream": "stdout",
       "text": [
        "http://www.imdb.com/search/title?sort=num_votes%2Cdesc&start=1&title_type=feature\n",
        "<span class=\"year_type\">(1994)</span>"
       ]
      },
      {
       "output_type": "stream",
       "stream": "stdout",
       "text": [
        "\n",
        "<span class=\"year_type\">(2008)</span>\n",
        "<span class=\"year_type\">(2010)</span>\n",
        "<span class=\"year_type\">(1994)</span>\n",
        "<span class=\"year_type\">(1999)</span>\n",
        "<span class=\"year_type\">(2001)</span>\n",
        "<span class=\"year_type\">(1999)</span>\n",
        "<span class=\"year_type\">(2003)</span>\n",
        "<span class=\"year_type\">(1972)</span>\n",
        "<span class=\"year_type\">(1994)</span>\n",
        "<span class=\"year_type\">(2002)</span>"
       ]
      },
      {
       "output_type": "stream",
       "stream": "stdout",
       "text": [
        "\n",
        "<span class=\"year_type\">(2012)</span>\n",
        "<span class=\"year_type\">(1995)</span>\n",
        "<span class=\"year_type\">(2009)</span>\n",
        "<span class=\"year_type\">(2005)</span>\n",
        "<span class=\"year_type\">(2000)</span>\n",
        "<span class=\"year_type\">(1977)</span>\n",
        "<span class=\"year_type\">(2012)</span>\n",
        "<span class=\"year_type\">(2000)</span>\n",
        "<span class=\"year_type\">(1999)</span>\n",
        "<span class=\"year_type\">(1998)</span>\n",
        "<span class=\"year_type\">(1993)</span>"
       ]
      },
      {
       "output_type": "stream",
       "stream": "stdout",
       "text": [
        "\n",
        "<span class=\"year_type\">(2006)</span>\n",
        "<span class=\"year_type\">(1991)</span>\n",
        "<span class=\"year_type\">(2003)</span>\n",
        "<span class=\"year_type\">(1980)</span>\n",
        "<span class=\"year_type\">(1997)</span>\n",
        "<span class=\"year_type\">(2005)</span>\n",
        "<span class=\"year_type\">(2009)</span>\n",
        "<span class=\"year_type\">(2006)</span>\n",
        "<span class=\"year_type\">(1998)</span>\n",
        "<span class=\"year_type\">(1974)</span>\n",
        "<span class=\"year_type\">(1995)</span>\n",
        "<span class=\"year_type\">(1995)</span>"
       ]
      },
      {
       "output_type": "stream",
       "stream": "stdout",
       "text": [
        "\n",
        "<span class=\"year_type\">(1991)</span>\n",
        "<span class=\"year_type\">(1999)</span>\n",
        "<span class=\"year_type\">(2012)</span>\n",
        "<span class=\"year_type\">(2003)</span>\n",
        "<span class=\"year_type\">(1990)</span>\n",
        "<span class=\"year_type\">(2005)</span>\n",
        "<span class=\"year_type\">(1994)</span>\n",
        "<span class=\"year_type\">(1999)</span>\n",
        "<span class=\"year_type\">(1975)</span>\n",
        "<span class=\"year_type\">(2010)</span>\n",
        "<span class=\"year_type\">(1981)</span>\n",
        "<span class=\"year_type\">(2004)</span>"
       ]
      },
      {
       "output_type": "stream",
       "stream": "stdout",
       "text": [
        "\n",
        "<span class=\"year_type\">(1985)</span>\n",
        "<span class=\"year_type\">(2008)</span>\n",
        "<span class=\"year_type\">(2008)</span>\n",
        "<span class=\"year_type\">(2008)</span>\n"
       ]
      }
     ],
     "prompt_number": 44
    },
    {
     "cell_type": "code",
     "collapsed": false,
     "input": [],
     "language": "python",
     "metadata": {},
     "outputs": []
    }
   ],
   "metadata": {}
  }
 ]
}