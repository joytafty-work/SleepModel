{
 "metadata": {
  "name": ""
 },
 "nbformat": 3,
 "nbformat_minor": 0,
 "worksheets": [
  {
   "cells": [
    {
     "cell_type": "code",
     "collapsed": false,
     "input": [
      "# Load single file\n",
      "import json\n",
      "import datetime\n",
      "import time\n",
      "from datetime import timedelta\n",
      "import numpy as np\n",
      "\n",
      "jread = open('BB_Aug2013/BBdata_json_20130801_n60.json').read()\n",
      "dat = json.loads(jread)\n",
      "vk = dat.viewkeys()\n",
      "\n",
      "# 2. Extract features from data\n",
      "##### Preprocess data #####\n",
      "mk = (dat['metrics']).viewkeys()\n",
      "\n",
      "t0 = dat['starttime'] # Start of day\n",
      "tf = dat['endtime'] # End of day\n",
      "stemp = np.array(dat['bodystates'])\n",
      "# Unique body states\n",
      "states = np.unique(stemp[:, 2]);\n",
      "\n",
      "print states\n",
      "# Date anchor\n",
      "# datepass = td(seconds=t0));\n",
      "epoch = datetime.datetime(1969, 12, 31, 20, 0, 0)\n",
      "tpass = timedelta(seconds=t0)\n",
      "recstart = epoch + tpass\n",
      "print recstart.date()\n",
      "# Convert time format\n",
      "unix_time_utc = dat['starttime']\n",
      "timestamp = datetime.datetime.fromtimestamp(unix_time_utc).time()\n",
      "print timestamp\n",
      "\n",
      "###### Parse BB Measurements #####\n",
      "# * Physical factors\n",
      "# ** Activity Level (inactive, light, moderate)\n",
      "steps = dat['metrics']['steps']['values']\n",
      "# ** Duration, number of intervals, average length for each level\n",
      "# ** total calories burned\n",
      "calories = dat['metrics']['calories']['values']\n",
      "# * Sleep factors\n",
      "# ** bedtime\n",
      "# ** wakeup time\n",
      "# ** sleep interruption\n",
      "# * Perspiration\n",
      "gsr = dat['metrics']['gsr']['values']\n",
      "# * Heart function\n",
      "heartrate = dat['metrics']['heartrate']['values']\n",
      "# ** awake_heartrate\n",
      "# ** resting_heartrate\n",
      "# ** total_body_heat_flux\n",
      "skin_temp = dat['metrics']['skin_temp']['values']\n",
      "air_temp = dat['metrics']['air_temp']['values']\n",
      "print type(skin_temp)\n",
      "\n"
     ],
     "language": "python",
     "metadata": {},
     "outputs": [
      {
       "output_type": "stream",
       "stream": "stdout",
       "text": [
        "[u'inactive' u'light_activity' u'moderate_activity' u'off_wrist' u'sleep']\n",
        "2013-08-01\n",
        "00:00:00\n",
        "<type 'list'>\n"
       ]
      }
     ],
     "prompt_number": 4
    },
    {
     "cell_type": "code",
     "collapsed": false,
     "input": [],
     "language": "python",
     "metadata": {},
     "outputs": [],
     "prompt_number": 110
    },
    {
     "cell_type": "code",
     "collapsed": false,
     "input": [],
     "language": "python",
     "metadata": {},
     "outputs": [],
     "prompt_number": 94
    },
    {
     "cell_type": "code",
     "collapsed": false,
     "input": [],
     "language": "python",
     "metadata": {},
     "outputs": []
    }
   ],
   "metadata": {}
  }
 ]
}