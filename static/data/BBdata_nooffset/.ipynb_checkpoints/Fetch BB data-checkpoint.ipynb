{
 "metadata": {
  "name": ""
 },
 "nbformat": 3,
 "nbformat_minor": 0,
 "worksheets": [
  {
   "cells": [
    {
     "cell_type": "code",
     "collapsed": false,
     "input": [
      "def get_user_id(session):\n",
      "    import session\n",
      "    \"\"\"This won't work until logging into the site with a username and password is working properly.\"\"\"\n",
      "    js = session.get('https://app.mybasis.com/js/lib/basis_api.js').text\n",
      "    m = re.search('ClientID:\"(?P<user_id>[0-9a-f])\"', js)\n",
      "    if m is None:\n",
      "        return None\n",
      "    return m.group('user_id')\n",
      "\n",
      "def get_data(user_id, start_date, end_date):\n",
      "    import requests\n",
      "    import datetime\n",
      "    delta = datetime.timedelta(days=1)\n",
      "    d = start_date\n",
      "    print d\n",
      "    while d <= end_date:\n",
      "        url = 'https://app.mybasis.com/api/v1/chart/{0}.json?summary=true&interval=60&units=ms&start_date={1}&start_offset=0&end_offset=0&heartrate=true&steps=true&calories=true&gsr=true&skin_temp=true&air_temp=true&bodystates=true'.format(user_id, d.strftime('%Y-%m-%d'))\n",
      "        yield requests.get(url).json()\n",
      "        d += delta\n",
      "        print d\n",
      "\n",
      "import datetime\n",
      "user_id = '515ccbb671ef7826d2001dda'\n",
      "test = get_data(user_id, datetime.datetime(2013, 11, 1), datetime.datetime(2013, 11, 10))"
     ],
     "language": "python",
     "metadata": {},
     "outputs": [],
     "prompt_number": 15
    },
    {
     "cell_type": "code",
     "collapsed": false,
     "input": [
      "import datetime\n",
      "import requests\n",
      "d = datetime.datetime(2013, 11, 1)\n",
      "url = 'https://app.mybasis.com/api/v1/chart/{0}.json?summary=true&interval=60&units=ms&start_date={1}&start_offset=0&end_offset=0&heartrate=true&steps=true&calories=true&gsr=true&skin_temp=true&air_temp=true&bodystates=true'.format(user_id, d.strftime('%Y-%m-%d'))\n",
      "r = requests.get(url).text\n",
      "startdate = datetime.date(2013, 11, 1)\n",
      "enddate = datetime.date(2013, 11, 10)"
     ],
     "language": "python",
     "metadata": {},
     "outputs": [
      {
       "output_type": "stream",
       "stream": "stdout",
       "text": [
        "<type 'int'>\n"
       ]
      }
     ],
     "prompt_number": 48
    },
    {
     "cell_type": "code",
     "collapsed": false,
     "input": [
      "# Get specified date range\n",
      "# Fetch data and save into json\n",
      "import json\n",
      "import datetime\n",
      "user_id = '515ccbb671ef7826d2001dda'\n",
      "startdate = datetime.datetime(2013, 11, 1)\n",
      "enddate = datetime.datetime(2013, 11, 10)\n",
      "\n",
      "d = startdate\n",
      "fpath = 'Users'\n",
      "while d <= enddate:\n",
      "    print d\n",
      "    url = 'https://app.mybasis.com/api/v1/chart/{0}.json?summary=true&interval=60&units=ms&start_date={1}&start_offset=0&end_offset=0&heartrate=true&steps=true&calories=true&gsr=true&skin_temp=true&air_temp=true&bodystates=true'.format(user_id, d.strftime('%Y-%m-%d'))\n",
      "#     r = requests.get(url).text\n",
      "    fname = 'BBdata' + d.strftime('%Y-%m-%d') + '.json'\n",
      "    print fname\n",
      "#     with open(fname, 'w') as outfile:\n",
      "#       json.dump(data, outfile)\n",
      "    \n",
      "# (Optional Store data into SQL) ?\n",
      "\n",
      "# Parse Body State by time\n",
      "# Parse metrics by Body State"
     ],
     "language": "python",
     "metadata": {},
     "outputs": [],
     "prompt_number": "*"
    },
    {
     "cell_type": "code",
     "collapsed": false,
     "input": [],
     "language": "python",
     "metadata": {},
     "outputs": []
    },
    {
     "cell_type": "code",
     "collapsed": false,
     "input": [],
     "language": "python",
     "metadata": {},
     "outputs": [],
     "prompt_number": 12
    },
    {
     "cell_type": "code",
     "collapsed": false,
     "input": [],
     "language": "python",
     "metadata": {},
     "outputs": []
    }
   ],
   "metadata": {}
  }
 ]
}