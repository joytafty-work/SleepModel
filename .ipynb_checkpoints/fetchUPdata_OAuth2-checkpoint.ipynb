{
 "metadata": {
  "name": ""
 },
 "nbformat": 3,
 "nbformat_minor": 0,
 "worksheets": [
  {
   "cells": [
    {
     "cell_type": "code",
     "collapsed": false,
     "input": [
      "import httplib, ConfigParser, sys, os\n",
      "import oauth2 as oauth\n",
      "config = ConfigParser.RawConfigParser()\n",
      "SERVER = \"https://jawbone.com/auth/oauth2/auth\""
     ],
     "language": "python",
     "metadata": {},
     "outputs": [],
     "prompt_number": 13
    },
    {
     "cell_type": "code",
     "collapsed": false,
     "input": [
      "import oauth2 as oauth\n",
      "import urllib2\n",
      "import urlparse\n",
      "import cgi\n",
      "consumer = oauth.Consumer(\n",
      "    key    = 'RxOzz6tE38w',\n",
      "    secret = '094c3ff0fcfc767e7a8789d5242fa56a48ae78bc')\n",
      "\n",
      "CLIENT_ID = \"RxOzz6tE38w\"\n",
      "CLIENT_SECRET = \"094c3ff0fcfc767e7a8789d5242fa56a48ae78bc\"\n",
      "REDIRECT_URI = \"https://sleepmodel.herokuapp.com/\"\n",
      "base_auth_url = 'https://jawbone.com/auth/oauth2/auth'\n",
      "base_token_url = 'https://jawbone.com/auth/oauth2/token'\n",
      "auth_url2 = 'https://jawbone.com/nudge/api/v.1.0/users/@me'\n",
      "auth_params = \"response_type=code&client_id=\" + CLIENT_ID + \"&scope=basic_read&redirect_uri=\" + REDIRECT_URI\n",
      "client = oauth.Client(consumer)\n",
      "\n",
      "auth_url1 = base_auth_url + \"?\" + auth_params\n",
      "\n",
      "# auth_url2 = base_token_url + \"?\" + token_params\n",
      "\n",
      "# resp, content = client.request(auth_url1, headers={\"Authorization\": \"<Authorization>\"})\n",
      "resp, content = client.request(auth_url1)\n",
      "print dict(urlparse.parse_qsl(content))\n",
      "# print dir(resp)\n",
      "# print resp.values()\n",
      "# print resp['content-location']\n",
      "# print resp['-content-encoding']\n",
      "# token_params = \"client_id=\" + CLIENT_ID + \"&client_secret=\" + CLIENT_SECRET  \"&grant_type=authorization_code\" + \"&code=\" \n",
      "# resp2, content2 = client,request\n",
      "\n",
      "print auth_url1\n",
      "print resp.keys()\n",
      "print resp\n",
      "# print resp['content-location']\n",
      "# print resp.oauth_signature\n",
      "# print content"
     ],
     "language": "python",
     "metadata": {},
     "outputs": [
      {
       "ename": "TypeError",
       "evalue": "dict expected at most 1 arguments, got 2",
       "output_type": "pyerr",
       "traceback": [
        "\u001b[0;31m---------------------------------------------------------------------------\u001b[0m\n\u001b[0;31mTypeError\u001b[0m                                 Traceback (most recent call last)",
        "\u001b[0;32m<ipython-input-73-4b656aefbb9b>\u001b[0m in \u001b[0;36m<module>\u001b[0;34m()\u001b[0m\n\u001b[1;32m     22\u001b[0m \u001b[0;31m# resp, content = client.request(auth_url1, headers={\"Authorization\": \"<Authorization>\"})\u001b[0m\u001b[0;34m\u001b[0m\u001b[0;34m\u001b[0m\u001b[0m\n\u001b[1;32m     23\u001b[0m \u001b[0mresp\u001b[0m\u001b[0;34m,\u001b[0m \u001b[0mcontent\u001b[0m \u001b[0;34m=\u001b[0m \u001b[0mclient\u001b[0m\u001b[0;34m.\u001b[0m\u001b[0mrequest\u001b[0m\u001b[0;34m(\u001b[0m\u001b[0mauth_url1\u001b[0m\u001b[0;34m)\u001b[0m\u001b[0;34m\u001b[0m\u001b[0m\n\u001b[0;32m---> 24\u001b[0;31m \u001b[0;32mprint\u001b[0m \u001b[0mdict\u001b[0m\u001b[0;34m(\u001b[0m\u001b[0murlparse\u001b[0m\u001b[0;34m.\u001b[0m\u001b[0mparse_qsl\u001b[0m\u001b[0;34m(\u001b[0m\u001b[0mcontent\u001b[0m\u001b[0;34m)\u001b[0m\u001b[0;34m,\u001b[0m \u001b[0;34m\"POST\"\u001b[0m\u001b[0;34m)\u001b[0m\u001b[0;34m\u001b[0m\u001b[0m\n\u001b[0m\u001b[1;32m     25\u001b[0m \u001b[0;31m# print dir(resp)\u001b[0m\u001b[0;34m\u001b[0m\u001b[0;34m\u001b[0m\u001b[0m\n\u001b[1;32m     26\u001b[0m \u001b[0;31m# print resp.values()\u001b[0m\u001b[0;34m\u001b[0m\u001b[0;34m\u001b[0m\u001b[0m\n",
        "\u001b[0;31mTypeError\u001b[0m: dict expected at most 1 arguments, got 2"
       ]
      }
     ],
     "prompt_number": 73
    },
    {
     "cell_type": "code",
     "collapsed": false,
     "input": [
      "import unirest\n",
      "response = unirest.post(\"https://community-jawbone-up.p.mashape.com/users/@me/body_events\",\n",
      "  \n",
      "  headers={\n",
      "    \"Authorization\": \"<Authorization>\",\n",
      "    \"X-Mashape-Authorization\": \"<mashape-key>\"\n",
      "  },\n",
      "  params={ \n",
      "    \"title\": \"<title>\",\n",
      "    \"weight\": \"<weight>\",\n",
      "    \"body_fat\": \"<body_fat>\",\n",
      "    \"lean_mass\": \"<lean_mass>\",\n",
      "    \"bmi\": \"<bmi>\",\n",
      "    \"note\": \"<note>\",\n",
      "    \"image_url\": \"<image_url>\",\n",
      "    \"time_created\": \"<time_created>\",\n",
      "    \"tz\": \"<tz>\"\n",
      "  }\n",
      ");"
     ],
     "language": "python",
     "metadata": {},
     "outputs": [],
     "prompt_number": 70
    },
    {
     "cell_type": "code",
     "collapsed": false,
     "input": [
      "dir(response)"
     ],
     "language": "python",
     "metadata": {},
     "outputs": [
      {
       "metadata": {},
       "output_type": "pyout",
       "prompt_number": 9,
       "text": [
        "['__class__',\n",
        " '__delattr__',\n",
        " '__dict__',\n",
        " '__doc__',\n",
        " '__format__',\n",
        " '__getattribute__',\n",
        " '__hash__',\n",
        " '__init__',\n",
        " '__module__',\n",
        " '__new__',\n",
        " '__reduce__',\n",
        " '__reduce_ex__',\n",
        " '__repr__',\n",
        " '__setattr__',\n",
        " '__sizeof__',\n",
        " '__str__',\n",
        " '__subclasshook__',\n",
        " '__weakref__',\n",
        " '_body',\n",
        " '_code',\n",
        " '_headers',\n",
        " '_raw_body',\n",
        " 'body',\n",
        " 'code',\n",
        " 'headers',\n",
        " 'raw_body']"
       ]
      }
     ],
     "prompt_number": 9
    },
    {
     "cell_type": "code",
     "collapsed": false,
     "input": [
      "response.body"
     ],
     "language": "python",
     "metadata": {},
     "outputs": [
      {
       "metadata": {},
       "output_type": "pyout",
       "prompt_number": 10,
       "text": [
        "{u'message': u'Invalid Mashape key. If you are a Mashape user, get your key from your dashboard at https://www.mashape.com/login - To create a free Mashape account instead, go to https://www.mashape.com/signup'}"
       ]
      }
     ],
     "prompt_number": 10
    },
    {
     "cell_type": "code",
     "collapsed": false,
     "input": [],
     "language": "python",
     "metadata": {},
     "outputs": []
    }
   ],
   "metadata": {}
  }
 ]
}