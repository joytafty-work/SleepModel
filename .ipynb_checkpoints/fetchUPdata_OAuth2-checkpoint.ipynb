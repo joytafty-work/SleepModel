{
 "metadata": {
  "name": ""
 },
 "nbformat": 3,
 "nbformat_minor": 0,
 "worksheets": [
  {
   "cells": [
    {
     "cell_type": "code",
     "collapsed": false,
     "input": [
      "import httplib, ConfigParser, sys, os\n",
      "import oauth2 as oauth\n",
      "# config = ConfigParser.RawConfigParser()\n",
      "# SERVER = \"https://jawbone.com/auth/oauth2/auth\""
     ],
     "language": "python",
     "metadata": {},
     "outputs": [],
     "prompt_number": 3
    },
    {
     "cell_type": "code",
     "collapsed": false,
     "input": [
      "import os\n",
      "import oauth2 as oauth\n",
      "import urllib2\n",
      "import urlparse\n",
      "import cgi\n",
      "# consumer = oauth.Consumer(\n",
      "#     key    = 'RxOzz6tE38w',\n",
      "#     secret = '094c3ff0fcfc767e7a8789d5242fa56a48ae78bc')\n",
      "\n",
      "consumer = oauth.Consumer(key=os.getenv(\"UP_client_id\"), secret=os.getenv(\"UP_client_secret\"))\n",
      "\n",
      "# CLIENT_ID = \"RxOzz6tE38w\"\n",
      "# CLIENT_SECRET = \"094c3ff0fcfc767e7a8789d5242fa56a48ae78bc\"\n",
      "\n",
      "CLIENT_ID = os.getenv(\"UP_client_id\") \n",
      "CLIENT_SECRET = os.getenv(\"UP_client_secret\")\n",
      "REDIRECT_URI = \"https://sleepmodel.herokuapp.com/\"\n",
      "base_auth_url = 'https://jawbone.com/auth/oauth2/auth'\n",
      "base_token_url = 'https://jawbone.com/auth/oauth2/token'\n",
      "auth_url2 = 'https://jawbone.com/nudge/api/v.1.0/users/@me'\n",
      "auth_params = \"response_type=code&client_id=\" + CLIENT_ID + \"&scope=basic_read&redirect_uri=\" + REDIRECT_URI\n",
      "client = oauth.Client(consumer)\n",
      "\n",
      "auth_url1 = base_auth_url + \"?\" + auth_params\n",
      "print auth_url1\n",
      "\n",
      "# auth_url2 = base_token_url + \"?\" + token_params\n",
      "# resp, content = client.request(auth_url1)\n",
      "resp, content = client.request(auth_url1, headers={\"Authorization\": \"<Authorization>\"})\n",
      "# resp, content = client.request(auth_url1, \"POST\")\n",
      "print resp\n",
      "# print dict(urlparse.parse_qsl(content))\n",
      "# print dir(resp)\n",
      "# print resp.values()\n",
      "# print resp['content-location']\n",
      "# print resp['-content-encoding']\n",
      "# token_params = \"client_id=\" + CLIENT_ID + \"&client_secret=\" + CLIENT_SECRET  \"&grant_type=authorization_code\" + \"&code=\" \n",
      "# resp2, content2 = client,request\n",
      "\n",
      "print auth_url1\n",
      "print resp.keys()\n",
      "print resp['status']\n",
      "# print resp['content-location']\n",
      "# print resp.oauth_signature\n",
      "# print content"
     ],
     "language": "python",
     "metadata": {},
     "outputs": [
      {
       "ename": "TypeError",
       "evalue": "request() got an unexpected keyword argument 'force_auth_header'",
       "output_type": "pyerr",
       "traceback": [
        "\u001b[0;31m---------------------------------------------------------------------------\u001b[0m\n\u001b[0;31mTypeError\u001b[0m                                 Traceback (most recent call last)",
        "\u001b[0;32m<ipython-input-2-52549e3b305f>\u001b[0m in \u001b[0;36m<module>\u001b[0;34m()\u001b[0m\n\u001b[1;32m     26\u001b[0m \u001b[0;34m\u001b[0m\u001b[0m\n\u001b[1;32m     27\u001b[0m \u001b[0;31m# auth_url2 = base_token_url + \"?\" + token_params\u001b[0m\u001b[0;34m\u001b[0m\u001b[0;34m\u001b[0m\u001b[0m\n\u001b[0;32m---> 28\u001b[0;31m \u001b[0mresp\u001b[0m\u001b[0;34m,\u001b[0m \u001b[0mcontent\u001b[0m \u001b[0;34m=\u001b[0m \u001b[0mclient\u001b[0m\u001b[0;34m.\u001b[0m\u001b[0mrequest\u001b[0m\u001b[0;34m(\u001b[0m\u001b[0mauth_url1\u001b[0m\u001b[0;34m,\u001b[0m \u001b[0mforce_auth_header\u001b[0m\u001b[0;34m=\u001b[0m\u001b[0mTrue\u001b[0m\u001b[0;34m)\u001b[0m\u001b[0;34m\u001b[0m\u001b[0m\n\u001b[0m\u001b[1;32m     29\u001b[0m \u001b[0;31m# resp, content = client.request(auth_url1, headers={\"Authorization\": \"<Authorization>\"})\u001b[0m\u001b[0;34m\u001b[0m\u001b[0;34m\u001b[0m\u001b[0m\n\u001b[1;32m     30\u001b[0m \u001b[0;31m# resp, content = client.request(auth_url1, \"POST\")\u001b[0m\u001b[0;34m\u001b[0m\u001b[0;34m\u001b[0m\u001b[0m\n",
        "\u001b[0;31mTypeError\u001b[0m: request() got an unexpected keyword argument 'force_auth_header'"
       ]
      },
      {
       "output_type": "stream",
       "stream": "stdout",
       "text": [
        "https://jawbone.com/auth/oauth2/auth?response_type=code&client_id=RxOzz6tE38w&scope=basic_read&redirect_uri=https://sleepmodel.herokuapp.com/\n"
       ]
      }
     ],
     "prompt_number": 2
    },
    {
     "cell_type": "code",
     "collapsed": false,
     "input": [
      "import os\n",
      "import logging\n",
      "params = {\n",
      "          'response_type': 'code',\n",
      "          'client_id': os.getenv('UP_client_id'), \n",
      "          'redirect_url': REDIRECT_URI, \n",
      "#           'state': request.get.args.get('next'),\n",
      "          }\n",
      "logger = logging.getLogger(__name__)\n",
      "logger.debug('GET: %s' % request.args)\n"
     ],
     "language": "python",
     "metadata": {},
     "outputs": [
      {
       "ename": "NameError",
       "evalue": "name 'request' is not defined",
       "output_type": "pyerr",
       "traceback": [
        "\u001b[0;31m---------------------------------------------------------------------------\u001b[0m\n\u001b[0;31mNameError\u001b[0m                                 Traceback (most recent call last)",
        "\u001b[0;32m<ipython-input-6-daf29064f19e>\u001b[0m in \u001b[0;36m<module>\u001b[0;34m()\u001b[0m\n\u001b[1;32m      8\u001b[0m           }\n\u001b[1;32m      9\u001b[0m \u001b[0mlogger\u001b[0m \u001b[0;34m=\u001b[0m \u001b[0mlogging\u001b[0m\u001b[0;34m.\u001b[0m\u001b[0mgetLogger\u001b[0m\u001b[0;34m(\u001b[0m\u001b[0m__name__\u001b[0m\u001b[0;34m)\u001b[0m\u001b[0;34m\u001b[0m\u001b[0m\n\u001b[0;32m---> 10\u001b[0;31m \u001b[0mlogger\u001b[0m\u001b[0;34m.\u001b[0m\u001b[0mdebug\u001b[0m\u001b[0;34m(\u001b[0m\u001b[0;34m'GET: %s'\u001b[0m \u001b[0;34m%\u001b[0m \u001b[0mrequest\u001b[0m\u001b[0;34m.\u001b[0m\u001b[0margs\u001b[0m\u001b[0;34m)\u001b[0m\u001b[0;34m\u001b[0m\u001b[0m\n\u001b[0m",
        "\u001b[0;31mNameError\u001b[0m: name 'request' is not defined"
       ]
      }
     ],
     "prompt_number": 6
    },
    {
     "cell_type": "code",
     "collapsed": false,
     "input": [
      "import os\n",
      "CLIENT_ID = os.getenv(\"UP_client_id\")\n",
      "CLIENT_SECRET = os.getenv(\"UP_client_secret\")\n",
      "REDIRECT_URI = \"https://sleepmodel.herokuapp.com/\"\n",
      "base_auth_url = 'https://jawbone.com/auth/oauth2/auth'\n",
      "auth_params = \"response_type=code&client_id=\" + CLIENT_ID + \"&scope=basic_read&redirect_uri=\" + REDIRECT_URI\n",
      "base_token_url = 'https://jawbone.com/auth/oauth2/token'\n",
      "token_params = \"client_id=\" + CLIENT_ID + \"&client_secret=\" + CLIENT_SECRET + \"&grant_type=authorization_code\"\n",
      "# Get authentication url for request token\n",
      "auth_url = base_auth_url + \"?\" + auth_params\n",
      "# resp, content = client.request(base_auth_url)\n",
      "token_url = base_token_url + \"?\" + token_params\n",
      "\n",
      "from flask_oauth import OAuth \n",
      "# dir(oauth)\n",
      "import oauth2 as oa2\n",
      "consumer = oa2.Consumer(os.getenv(\"UP_client_id\"), os.getenv(\"UP_client_secret\"))\n",
      "client = oa2.Client(consumer)\n",
      "resp, content = client.request(auth_url)\n",
      "\n",
      "twitter = OAuth().remote_app('twitter',\n",
      "    base_url='https://api.twitter.com/1/',\n",
      "    request_token_url='https://api.twitter.com/oauth/request_token',\n",
      "    access_token_url='https://api.twitter.com/oauth/access_token',\n",
      "    authorize_url='https://api.twitter.com/oauth/authenticate',\n",
      "    consumer_key='<your key here>',\n",
      "    consumer_secret='<your secret here>'\n",
      ")\n",
      "\n",
      "sleepUP = OAuth().remote_app(\n",
      "        'sleepmodel', \n",
      "        base_url='https://jawbone.com/auth/oauth2/auth',\n",
      "        request_token_url=base_auth_url,\n",
      "        access_token_url=base_token_url,\n",
      "        authorize_url=base_token_url,\n",
      "        consumer_key=os.getenv(\"UP_client_id\"),\n",
      "        consumer_secret=os.getenv(\"UP_client_secret\")\n",
      "        )"
     ],
     "language": "python",
     "metadata": {},
     "outputs": [
      {
       "ename": "NameError",
       "evalue": "name 'oauth' is not defined",
       "output_type": "pyerr",
       "traceback": [
        "\u001b[0;31m---------------------------------------------------------------------------\u001b[0m\n\u001b[0;31mNameError\u001b[0m                                 Traceback (most recent call last)",
        "\u001b[0;32m<ipython-input-34-e5409d3ba45c>\u001b[0m in \u001b[0;36m<module>\u001b[0;34m()\u001b[0m\n\u001b[1;32m     15\u001b[0m \u001b[0;31m# dir(oauth)\u001b[0m\u001b[0;34m\u001b[0m\u001b[0;34m\u001b[0m\u001b[0m\n\u001b[1;32m     16\u001b[0m \u001b[0;34m\u001b[0m\u001b[0m\n\u001b[0;32m---> 17\u001b[0;31m \u001b[0mconsumer\u001b[0m \u001b[0;34m=\u001b[0m \u001b[0moauth\u001b[0m\u001b[0;34m.\u001b[0m\u001b[0mConsumer\u001b[0m\u001b[0;34m(\u001b[0m\u001b[0mos\u001b[0m\u001b[0;34m.\u001b[0m\u001b[0mgetenv\u001b[0m\u001b[0;34m(\u001b[0m\u001b[0;34m\"UP_client_id\"\u001b[0m\u001b[0;34m)\u001b[0m\u001b[0;34m,\u001b[0m \u001b[0mos\u001b[0m\u001b[0;34m.\u001b[0m\u001b[0mgetenv\u001b[0m\u001b[0;34m(\u001b[0m\u001b[0;34m\"UP_client_secret\"\u001b[0m\u001b[0;34m)\u001b[0m\u001b[0;34m)\u001b[0m\u001b[0;34m\u001b[0m\u001b[0m\n\u001b[0m\u001b[1;32m     18\u001b[0m \u001b[0mclient\u001b[0m \u001b[0;34m=\u001b[0m \u001b[0moauth\u001b[0m\u001b[0;34m.\u001b[0m\u001b[0mClient\u001b[0m\u001b[0;34m(\u001b[0m\u001b[0mconsumer\u001b[0m\u001b[0;34m)\u001b[0m\u001b[0;34m\u001b[0m\u001b[0m\n\u001b[1;32m     19\u001b[0m \u001b[0mresp\u001b[0m\u001b[0;34m,\u001b[0m \u001b[0mcontent\u001b[0m \u001b[0;34m=\u001b[0m \u001b[0mclient\u001b[0m\u001b[0;34m.\u001b[0m\u001b[0mrequest\u001b[0m\u001b[0;34m(\u001b[0m\u001b[0mauth_url\u001b[0m\u001b[0;34m)\u001b[0m\u001b[0;34m\u001b[0m\u001b[0m\n",
        "\u001b[0;31mNameError\u001b[0m: name 'oauth' is not defined"
       ]
      }
     ],
     "prompt_number": 34
    },
    {
     "cell_type": "code",
     "collapsed": false,
     "input": [
      "from flask import url_for\n",
      "from werkzeug.wrappers import Request as request\n",
      "sleepUP.authorize(callback=url_for('oauth_authorized', \n",
      "            next=request.args.get('next') or request.referrere or None))"
     ],
     "language": "python",
     "metadata": {},
     "outputs": [
      {
       "ename": "AttributeError",
       "evalue": "'cached_property' object has no attribute 'get'",
       "output_type": "pyerr",
       "traceback": [
        "\u001b[0;31m---------------------------------------------------------------------------\u001b[0m\n\u001b[0;31mAttributeError\u001b[0m                            Traceback (most recent call last)",
        "\u001b[0;32m<ipython-input-30-ae72dca62dd1>\u001b[0m in \u001b[0;36m<module>\u001b[0;34m()\u001b[0m\n\u001b[1;32m      2\u001b[0m \u001b[0;32mfrom\u001b[0m \u001b[0mwerkzeug\u001b[0m\u001b[0;34m.\u001b[0m\u001b[0mwrappers\u001b[0m \u001b[0;32mimport\u001b[0m \u001b[0mRequest\u001b[0m \u001b[0;32mas\u001b[0m \u001b[0mrequest\u001b[0m\u001b[0;34m\u001b[0m\u001b[0m\n\u001b[1;32m      3\u001b[0m sleepUP.authorize(callback=url_for('oauth_authorized', \n\u001b[0;32m----> 4\u001b[0;31m             next=request.args.get('next') or request.referrere or None))\n\u001b[0m",
        "\u001b[0;31mAttributeError\u001b[0m: 'cached_property' object has no attribute 'get'"
       ]
      }
     ],
     "prompt_number": 30
    },
    {
     "cell_type": "code",
     "collapsed": false,
     "input": [
      "!pip install tipfy"
     ],
     "language": "python",
     "metadata": {},
     "outputs": [
      {
       "output_type": "stream",
       "stream": "stdout",
       "text": [
        "Downloading/unpacking tipfy\r\n"
       ]
      },
      {
       "output_type": "stream",
       "stream": "stdout",
       "text": [
        "  Downloading tipfy-0.6.4.tar.gz\r\n",
        "  Running setup.py egg_info for package tipfy\r\n"
       ]
      },
      {
       "output_type": "stream",
       "stream": "stdout",
       "text": [
        "    \r\n"
       ]
      },
      {
       "output_type": "stream",
       "stream": "stdout",
       "text": [
        "Requirement already satisfied (use --upgrade to upgrade): werkzeug>=0.6.1 in /Users/joytafty1/Virtualenv/sleepenv/lib/python2.7/site-packages (from tipfy)\r\n",
        "Installing collected packages: tipfy\r\n",
        "  Running setup.py install for tipfy\r\n"
       ]
      },
      {
       "output_type": "stream",
       "stream": "stdout",
       "text": [
        "    \r\n"
       ]
      },
      {
       "output_type": "stream",
       "stream": "stdout",
       "text": [
        "    Skipping installation of /Users/joytafty1/Virtualenv/sleepenv/lib/python2.7/site-packages/tipfy/__init__.py (namespace package)\r\n",
        "    Skipping installation of /Users/joytafty1/Virtualenv/sleepenv/lib/python2.7/site-packages/tipfy/ext/__init__.py (namespace package)\r\n",
        "    Installing /Users/joytafty1/Virtualenv/sleepenv/lib/python2.7/site-packages/tipfy-0.6.4-py2.7-nspkg.pth\r\n",
        "Successfully installed tipfy\r\n",
        "Cleaning up...\r\n"
       ]
      }
     ],
     "prompt_number": 14
    },
    {
     "cell_type": "code",
     "collapsed": false,
     "input": [],
     "language": "python",
     "metadata": {},
     "outputs": [],
     "prompt_number": 12
    },
    {
     "cell_type": "code",
     "collapsed": false,
     "input": [],
     "language": "python",
     "metadata": {},
     "outputs": []
    }
   ],
   "metadata": {}
  }
 ]
}