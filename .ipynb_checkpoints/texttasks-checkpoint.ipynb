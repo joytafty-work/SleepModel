{
 "metadata": {
  "name": ""
 },
 "nbformat": 3,
 "nbformat_minor": 0,
 "worksheets": [
  {
   "cells": [
    {
     "cell_type": "code",
     "collapsed": false,
     "input": [
      "# Fetch text data\n",
      "from pattern import web\n",
      "import requests\n",
      "dom = web.Element\n",
      "url = \"http://en.wikipedia.org/wiki/World_population#Population_by_region\"\n",
      "webhtml = requests.get(url).text\n",
      "\n",
      "# Find table elements by table HTML Markups\n",
      "# $('<table>') for jquery\n",
      "# tbls = dom['wikitable']\n",
      "# dom.getElementsByClassname(\"table:wikitable\")\n",
      "print dom.__class__\n",
      "# print tbls"
     ],
     "language": "python",
     "metadata": {},
     "outputs": [
      {
       "output_type": "stream",
       "stream": "stdout",
       "text": [
        "<type 'type'>\n"
       ]
      }
     ],
     "prompt_number": 25
    },
    {
     "cell_type": "code",
     "collapsed": false,
     "input": [
      "import requests\n",
      "from pattern import web\n",
      "url = \"http://www.imdb.com/search/title\"\n",
      "params = dict(sort='num_votes,desc', start=1, \n",
      "             title_type='feature')\n",
      "r = requests.get(url, params=params)\n",
      "print r.url\n",
      "# from BeautifulSoup import BeautifulSoup\n",
      "\n",
      "dom = web.Element(r.text)\n",
      "\n",
      "for mdom in dom.by_tag('td.title'):\n",
      "    title = mdom.by_tag('a')[0].content\n",
      "    year = mdom.by_class('year_type')[0]\n",
      "    print year"
     ],
     "language": "python",
     "metadata": {},
     "outputs": [
      {
       "output_type": "stream",
       "stream": "stdout",
       "text": [
        "http://www.imdb.com/search/title?sort=num_votes%2Cdesc&start=1&title_type=feature\n",
        "<span class=\"wlb_wrapper\" data-tconst=\"tt0111161\" data-size=\"small\" data-caller-name=\"search\"></span>"
       ]
      },
      {
       "output_type": "stream",
       "stream": "stdout",
       "text": [
        "\n",
        "<span class=\"wlb_wrapper\" data-tconst=\"tt0468569\" data-size=\"small\" data-caller-name=\"search\"></span>\n",
        "<span class=\"wlb_wrapper\" data-tconst=\"tt1375666\" data-size=\"small\" data-caller-name=\"search\"></span>\n",
        "<span class=\"wlb_wrapper\" data-tconst=\"tt0110912\" data-size=\"small\" data-caller-name=\"search\"></span>\n",
        "<span class=\"wlb_wrapper\" data-tconst=\"tt0137523\" data-size=\"small\" data-caller-name=\"search\"></span>\n",
        "<span class=\"wlb_wrapper\" data-tconst=\"tt0120737\" data-size=\"small\" data-caller-name=\"search\"></span>\n",
        "<span class=\"wlb_wrapper\" data-tconst=\"tt0133093\" data-size=\"small\" data-caller-name=\"search\"></span>\n",
        "<span class=\"wlb_wrapper\" data-tconst=\"tt0167260\" data-size=\"small\" data-caller-name=\"search\"></span>\n",
        "<span class=\"wlb_wrapper\" data-tconst=\"tt0068646\" data-size=\"small\" data-caller-name=\"search\"></span>\n",
        "<span class=\"wlb_wrapper\" data-tconst=\"tt0109830\" data-size=\"small\" data-caller-name=\"search\"></span>\n",
        "<span class=\"wlb_wrapper\" data-tconst=\"tt0167261\" data-size=\"small\" data-caller-name=\"search\"></span>\n",
        "<span class=\"wlb_wrapper\" data-tconst=\"tt1345836\" data-size=\"small\" data-caller-name=\"search\"></span>\n",
        "<span class=\"wlb_wrapper\" data-tconst=\"tt0114369\" data-size=\"small\" data-caller-name=\"search\"></span>\n",
        "<span class=\"wlb_wrapper\" data-tconst=\"tt0499549\" data-size=\"small\" data-caller-name=\"search\"></span>\n",
        "<span class=\"wlb_wrapper\" data-tconst=\"tt0372784\" data-size=\"small\" data-caller-name=\"search\"></span>\n",
        "<span class=\"wlb_wrapper\" data-tconst=\"tt0172495\" data-size=\"small\" data-caller-name=\"search\"></span>\n",
        "<span class=\"wlb_wrapper\" data-tconst=\"tt0076759\" data-size=\"small\" data-caller-name=\"search\"></span>\n",
        "<span class=\"wlb_wrapper\" data-tconst=\"tt0848228\" data-size=\"small\" data-caller-name=\"search\"></span>\n",
        "<span class=\"wlb_wrapper\" data-tconst=\"tt0209144\" data-size=\"small\" data-caller-name=\"search\"></span>\n",
        "<span class=\"wlb_wrapper\" data-tconst=\"tt0169547\" data-size=\"small\" data-caller-name=\"search\"></span>\n",
        "<span class=\"wlb_wrapper\" data-tconst=\"tt0120815\" data-size=\"small\" data-caller-name=\"search\"></span>\n",
        "<span class=\"wlb_wrapper\" data-tconst=\"tt0108052\" data-size=\"small\" data-caller-name=\"search\"></span>\n",
        "<span class=\"wlb_wrapper\" data-tconst=\"tt0407887\" data-size=\"small\" data-caller-name=\"search\"></span>\n",
        "<span class=\"wlb_wrapper\" data-tconst=\"tt0102926\" data-size=\"small\" data-caller-name=\"search\"></span>\n",
        "<span class=\"wlb_wrapper\" data-tconst=\"tt0325980\" data-size=\"small\" data-caller-name=\"search\"></span>\n",
        "<span class=\"wlb_wrapper\" data-tconst=\"tt0080684\" data-size=\"small\" data-caller-name=\"search\"></span>\n",
        "<span class=\"wlb_wrapper\" data-tconst=\"tt0120338\" data-size=\"small\" data-caller-name=\"search\"></span>\n",
        "<span class=\"wlb_wrapper\" data-tconst=\"tt0434409\" data-size=\"small\" data-caller-name=\"search\"></span>\n",
        "<span class=\"wlb_wrapper\" data-tconst=\"tt0361748\" data-size=\"small\" data-caller-name=\"search\"></span>\n",
        "<span class=\"wlb_wrapper\" data-tconst=\"tt0482571\" data-size=\"small\" data-caller-name=\"search\"></span>\n",
        "<span class=\"wlb_wrapper\" data-tconst=\"tt0120586\" data-size=\"small\" data-caller-name=\"search\"></span>\n",
        "<span class=\"wlb_wrapper\" data-tconst=\"tt0071562\" data-size=\"small\" data-caller-name=\"search\"></span>\n",
        "<span class=\"wlb_wrapper\" data-tconst=\"tt0114814\" data-size=\"small\" data-caller-name=\"search\"></span>\n",
        "<span class=\"wlb_wrapper\" data-tconst=\"tt0112573\" data-size=\"small\" data-caller-name=\"search\"></span>\n",
        "<span class=\"wlb_wrapper\" data-tconst=\"tt0103064\" data-size=\"small\" data-caller-name=\"search\"></span>\n",
        "<span class=\"wlb_wrapper\" data-tconst=\"tt0167404\" data-size=\"small\" data-caller-name=\"search\"></span>\n",
        "<span class=\"wlb_wrapper\" data-tconst=\"tt1853728\" data-size=\"small\" data-caller-name=\"search\"></span>\n",
        "<span class=\"wlb_wrapper\" data-tconst=\"tt0266697\" data-size=\"small\" data-caller-name=\"search\"></span>\n",
        "<span class=\"wlb_wrapper\" data-tconst=\"tt0099685\" data-size=\"small\" data-caller-name=\"search\"></span>\n",
        "<span class=\"wlb_wrapper\" data-tconst=\"tt0401792\" data-size=\"small\" data-caller-name=\"search\"></span>\n",
        "<span class=\"wlb_wrapper\" data-tconst=\"tt0110413\" data-size=\"small\" data-caller-name=\"search\"></span>\n",
        "<span class=\"wlb_wrapper\" data-tconst=\"tt0120689\" data-size=\"small\" data-caller-name=\"search\"></span>\n",
        "<span class=\"wlb_wrapper\" data-tconst=\"tt0073486\" data-size=\"small\" data-caller-name=\"search\"></span>\n",
        "<span class=\"wlb_wrapper\" data-tconst=\"tt1130884\" data-size=\"small\" data-caller-name=\"search\"></span>\n",
        "<span class=\"wlb_wrapper\" data-tconst=\"tt0082971\" data-size=\"small\" data-caller-name=\"search\"></span>\n",
        "<span class=\"wlb_wrapper\" data-tconst=\"tt0338013\" data-size=\"small\" data-caller-name=\"search\"></span>\n",
        "<span class=\"wlb_wrapper\" data-tconst=\"tt0088763\" data-size=\"small\" data-caller-name=\"search\"></span>\n",
        "<span class=\"wlb_wrapper\" data-tconst=\"tt0371746\" data-size=\"small\" data-caller-name=\"search\"></span>\n",
        "<span class=\"wlb_wrapper\" data-tconst=\"tt0910970\" data-size=\"small\" data-caller-name=\"search\"></span>\n",
        "<span class=\"wlb_wrapper\" data-tconst=\"tt1010048\" data-size=\"small\" data-caller-name=\"search\"></span>\n"
       ]
      }
     ],
     "prompt_number": 43
    },
    {
     "cell_type": "code",
     "collapsed": false,
     "input": [],
     "language": "python",
     "metadata": {},
     "outputs": []
    }
   ],
   "metadata": {}
  }
 ]
}