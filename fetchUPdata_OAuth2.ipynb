{
 "metadata": {
  "name": ""
 },
 "nbformat": 3,
 "nbformat_minor": 0,
 "worksheets": [
  {
   "cells": [
    {
     "cell_type": "code",
     "collapsed": false,
     "input": [
      "import httplib, ConfigParser, sys, os\n",
      "import oauth2 as oauth\n",
      "config = ConfigParser.RawConfigParser()\n",
      "SERVER = \"https://jawbone.com/auth/oauth2/auth\""
     ],
     "language": "python",
     "metadata": {},
     "outputs": [],
     "prompt_number": 1
    },
    {
     "cell_type": "code",
     "collapsed": false,
     "input": [
      "import oauth2 as oauth\n",
      "import urllib2\n",
      "import urlparse\n",
      "import cgi\n",
      "# consumer = oauth.Consumer(\n",
      "#     key    = 'RxOzz6tE38w',\n",
      "#     secret = '094c3ff0fcfc767e7a8789d5242fa56a48ae78bc')\n",
      "\n",
      "consumer = oauth.Consumer(key=os.getenv(\"UP_client_id\"), secret=os.getenv(\"UP_client_secret\"))\n",
      "\n",
      "# CLIENT_ID = \"RxOzz6tE38w\"\n",
      "# CLIENT_SECRET = \"094c3ff0fcfc767e7a8789d5242fa56a48ae78bc\"\n",
      "\n",
      "CLIENT_ID = os.getenv(\"UP_client_id\") \n",
      "CLIENT_SECRET = os.getenv(\"UP_client_secret\")\n",
      "REDIRECT_URI = \"https://sleepmodel.herokuapp.com/\"\n",
      "base_auth_url = 'https://jawbone.com/auth/oauth2/auth'\n",
      "base_token_url = 'https://jawbone.com/auth/oauth2/token'\n",
      "auth_url2 = 'https://jawbone.com/nudge/api/v.1.0/users/@me'\n",
      "auth_params = \"response_type=code&client_id=\" + CLIENT_ID + \"&scope=basic_read&redirect_uri=\" + REDIRECT_URI\n",
      "client = oauth.Client(consumer)\n",
      "\n",
      "auth_url1 = base_auth_url + \"?\" + auth_params\n",
      "\n",
      "# auth_url2 = base_token_url + \"?\" + token_params\n",
      "\n",
      "# resp, content = client.request(auth_url1, headers={\"Authorization\": \"<Authorization>\"})\n",
      "resp, content = client.request(auth_url1, \"POST\")\n",
      "print resp\n",
      "# print dict(urlparse.parse_qsl(content))\n",
      "# print dir(resp)\n",
      "# print resp.values()\n",
      "# print resp['content-location']\n",
      "# print resp['-content-encoding']\n",
      "# token_params = \"client_id=\" + CLIENT_ID + \"&client_secret=\" + CLIENT_SECRET  \"&grant_type=authorization_code\" + \"&code=\" \n",
      "# resp2, content2 = client,request\n",
      "\n",
      "print auth_url1\n",
      "print resp.keys()\n",
      "print resp['status']\n",
      "# print resp['content-location']\n",
      "# print resp.oauth_signature\n",
      "# print content"
     ],
     "language": "python",
     "metadata": {},
     "outputs": [
      {
       "output_type": "stream",
       "stream": "stdout",
       "text": [
        "{'status': '200', 'content-length': '10621', 'set-cookie': 'aid=M35-P8lJr6eao9lgtk7Wt5htZEPJGZYSxvaylCb986L4h6g2bIaqxuHa7RyvHuN2vq4OJN2KFPg; Domain=jawbone.com; expires=Mon, 03 Dec 2018 00:00:00; Path=/', 'accept-ranges': 'bytes', 'vary': 'Accept-Encoding', 'server': 'nginx/1.2.7', 'connection': 'keep-alive', '-content-encoding': 'gzip', 'date': 'Tue, 10 Dec 2013 03:46:30 GMT', 'content-type': 'text/html; charset=utf-8'}\n",
        "https://jawbone.com/auth/oauth2/auth?response_type=code&client_id=RxOzz6tE38w&scope=basic_read&redirect_uri=https://sleepmodel.herokuapp.com/\n",
        "['status', 'content-length', 'set-cookie', 'accept-ranges', 'vary', 'server', 'connection', '-content-encoding', 'date', 'content-type']\n",
        "200\n"
       ]
      }
     ],
     "prompt_number": 10
    },
    {
     "cell_type": "code",
     "collapsed": false,
     "input": [
      "import unirest\n",
      "response = unirest.post(\"https://community-jawbone-up.p.mashape.com/users/@me/body_events\",\n",
      "  \n",
      "  headers={\n",
      "    \"Authorization\": \"<Authorization>\",\n",
      "    \"X-Mashape-Authorization\": \"<mashape-key>\"\n",
      "  },\n",
      "  params={ \n",
      "    \"title\": \"<title>\",\n",
      "    \"weight\": \"<weight>\",\n",
      "    \"body_fat\": \"<body_fat>\",\n",
      "    \"lean_mass\": \"<lean_mass>\",\n",
      "    \"bmi\": \"<bmi>\",\n",
      "    \"note\": \"<note>\",\n",
      "    \"image_url\": \"<image_url>\",\n",
      "    \"time_created\": \"<time_created>\",\n",
      "    \"tz\": \"<tz>\"\n",
      "  }\n",
      ");"
     ],
     "language": "python",
     "metadata": {},
     "outputs": [],
     "prompt_number": 3
    },
    {
     "cell_type": "code",
     "collapsed": false,
     "input": [
      "dir(response)"
     ],
     "language": "python",
     "metadata": {},
     "outputs": [
      {
       "metadata": {},
       "output_type": "pyout",
       "prompt_number": 9,
       "text": [
        "['__class__',\n",
        " '__delattr__',\n",
        " '__dict__',\n",
        " '__doc__',\n",
        " '__format__',\n",
        " '__getattribute__',\n",
        " '__hash__',\n",
        " '__init__',\n",
        " '__module__',\n",
        " '__new__',\n",
        " '__reduce__',\n",
        " '__reduce_ex__',\n",
        " '__repr__',\n",
        " '__setattr__',\n",
        " '__sizeof__',\n",
        " '__str__',\n",
        " '__subclasshook__',\n",
        " '__weakref__',\n",
        " '_body',\n",
        " '_code',\n",
        " '_headers',\n",
        " '_raw_body',\n",
        " 'body',\n",
        " 'code',\n",
        " 'headers',\n",
        " 'raw_body']"
       ]
      }
     ],
     "prompt_number": 9
    },
    {
     "cell_type": "code",
     "collapsed": false,
     "input": [
      "response.body"
     ],
     "language": "python",
     "metadata": {},
     "outputs": [
      {
       "metadata": {},
       "output_type": "pyout",
       "prompt_number": 10,
       "text": [
        "{u'message': u'Invalid Mashape key. If you are a Mashape user, get your key from your dashboard at https://www.mashape.com/login - To create a free Mashape account instead, go to https://www.mashape.com/signup'}"
       ]
      }
     ],
     "prompt_number": 10
    },
    {
     "cell_type": "code",
     "collapsed": false,
     "input": [],
     "language": "python",
     "metadata": {},
     "outputs": []
    }
   ],
   "metadata": {}
  }
 ]
}