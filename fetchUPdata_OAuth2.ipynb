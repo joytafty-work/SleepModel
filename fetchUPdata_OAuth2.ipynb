{
 "metadata": {
  "name": ""
 },
 "nbformat": 3,
 "nbformat_minor": 0,
 "worksheets": [
  {
   "cells": [
    {
     "cell_type": "code",
     "collapsed": false,
     "input": [
      "import httplib, ConfigParser, sys, os\n",
      "import oauth2 as oauth\n",
      "config = ConfigParser.RawConfigParser()\n",
      "SERVER = \"https://jawbone.com/auth/oauth2/auth\""
     ],
     "language": "python",
     "metadata": {},
     "outputs": [],
     "prompt_number": 13
    },
    {
     "cell_type": "code",
     "collapsed": false,
     "input": [
      "import oauth2 as oauth\n",
      "import urllib2\n",
      "import urlparse\n",
      "import cgi\n",
      "consumer = oauth.Consumer(\n",
      "    key    = 'RxOzz6tE38w',\n",
      "    secret = '094c3ff0fcfc767e7a8789d5242fa56a48ae78bc')\n",
      "\n",
      "CLIENT_ID = \"RxOzz6tE38w\"\n",
      "CLIENT_SECRET = \"094c3ff0fcfc767e7a8789d5242fa56a48ae78bc\"\n",
      "REDIRECT_URI = \"https://sleepmodel.herokuapp.com/\"\n",
      "base_auth_url = 'https://jawbone.com/auth/oauth2/auth'\n",
      "base_token_url = 'https://jawbone.com/auth/oauth2/token'\n",
      "auth_url2 = 'https://jawbone.com/nudge/api/v.1.0/users/@me'\n",
      "auth_params = \"response_type=code&client_id=\" + CLIENT_ID + \"&scope=basic_read&redirect_uri=\" + REDIRECT_URI\n",
      "client = oauth.Client(consumer)\n",
      "\n",
      "auth_url1 = base_auth_url + \"?\" + auth_params\n",
      "\n",
      "# auth_url2 = base_token_url + \"?\" + token_params\n",
      "\n",
      "# resp, content = client.request(auth_url1, headers={\"Authorization\": \"<Authorization>\"})\n",
      "resp, content = client.request(auth_url1, \"POST\")\n",
      "print dict(urlparse.parse_qsl(content))\n",
      "# print dir(resp)\n",
      "# print resp.values()\n",
      "# print resp['content-location']\n",
      "# print resp['-content-encoding']\n",
      "# token_params = \"client_id=\" + CLIENT_ID + \"&client_secret=\" + CLIENT_SECRET  \"&grant_type=authorization_code\" + \"&code=\" \n",
      "# resp2, content2 = client,request\n",
      "\n",
      "print auth_url1\n",
      "print resp.keys()\n",
      "print resp\n",
      "# print resp['content-location']\n",
      "# print resp.oauth_signature\n",
      "# print content"
     ],
     "language": "python",
     "metadata": {},
     "outputs": [
      {
       "output_type": "stream",
       "stream": "stdout",
       "text": [
        "{'typeof b': '==\"object\"', 'typeof a': '==\"object\"', 'd.define': 'function(a,b,c){if(typeof a!==\"string\"){c=b', 'e.paste.instanceStart': 'e.paste._instanceStart})(window,Object)', '<!DOCTYPE html>\\n<html xmlns': '\"http://www.w3.org/1999/xhtml\" xmlns:gel=\"http://jawbone.com/gel\" lang=\"en-US\"><head id=\"oauth2_head\" xmlns:og=\"http://opengraphprotocol.org/schema/\"><meta charset=\"utf-8\" /><title>Jawbone | JAMBOX Wireless Speakers | UP Wristband | Bluetooth Headsets</title><meta  name=\"description\" content=\"Discover the unparalleled technical innovation, ease-of-use, and sophisticated design of Jawbone wearable technology and audio devices.\" /><meta  name=\"keywords\" content=\"bluetooth, blue tooth, bluetooth headset, portable wireless, boombox, wireless speaker, bluetooth speaker, activity tracker, sleep tracker, starts with jambox\" /><meta  property=\"og:title\" content=\"Jawbone | JAMBOX Wireless Speakers | UP Wristband | Bluetooth Headsets\" /><meta  property=\"og:description\" content=\"Discover the unparalleled technical innovation, ease-of-use, and sophisticated design of Jawbone wearable technology and audio devices.\" /><meta property=\"og:site_name\" content=\"Jawbone.com\"/><meta  property=\"og:url\" content=\"https://jawbone.com/auth/oauth2/auth\" /><meta property=\"og:type\" content=\"website\"/><meta property=\"fb:admins\" content=\"735581424,650395884,709651760,252880,100003809705986,1124236466\"/><meta name=\"google-site-verification\" content=\"ScKH4eNIragOSB4h6XS3W02ekkte6TnRT45SuMsIIFo\"/><meta name=\"p:domain_verify\" content=\"49f804aaf917ee26e1bc4e53b750ec33\"/><meta name=\"viewport\" content=\"width=device-width\"/><link rel=\"shortcut icon\" href=\"//dyzup8v06s4q5.cloudfront.net/ver/static/favicon.ico\" type=\"image/x-icon\"/><link rel=\"stylesheet\" href=\"//dyzup8v06s4q5.cloudfront.net/paste/1374695261/auth.oauth2 v1.0.css\"/><!--[if lt IE 9]>\\n<script type=\"text/javascript\"src=\"//dyzup8v06s4q5.cloudfront.net/paste/1374695188/polyfills.ie8head.html5 v1.0.js\"></script>\\n<![endif]--></head><body id=\"oauth2_body\"><div id=\"content\"><section class=\"signin-wrapper\"><form action=\"/user/login\" method=\"post\" class=\"jawbone-form jawbone-signin-form\" accept-charset=\"utf-8\" novalidate=\"novalidate\"><input  type=\"hidden\" name=\"success\" value=\"cDfaX4SV7FsROHibvehTUEpRRuDeyYYwsKQDXb_3LmwpxZ0_IDB-ZnaVKedtC7dxcHHXfv2gUWqX1jpHopqnTSFzQHww5aK4tDrpI-tx8tHx1fC-JSJ-aHAd4IWH8dWMz8wphHGDNYePiNBqgMn6DXYUbRhc6Pe8l4L7ALi-wS0\" /><input  type=\"hidden\" name=\"render_path\" value=\"axowDS3zSzCRVCuFqH8sUZnROWdtLFRxUpkiJ9AiOyI\" /><h1 class=\"jawbone-signin-header\"><b>Sign In</b> using your Jawbone account.</h1><p class=\"form-field form-field-text\"><input  required=\"required\" type=\"email\" id=\"jawbone-signin-email\" name=\"email\" placeholder=\"Email Address\" value=\"\" /><label for=\"jawbone-signin-email\">Email Address</label></p><p class=\"form-field form-field-text\"><input  required=\"required\" type=\"password\" id=\"jawbone-signin-password\" name=\"pwd\" placeholder=\"Password\" /><label for=\"jawbone-signin-password\">Password</label></p><p class=\"form-field form-field-checkbox\"><label for=\"jawbone-signin-remember\">Remember me</label><input type=\"checkbox\" id=\"jawbone-signin-remember\" name=\"remember\" checked=\"checked\"/></p><p class=\"form-field form-field-submit\"><button  type=\"submit\" class=\"form-button\" >Sign In</button></p><p class=\"more-options\"><a href=\"/auth/oauth2/forgot\">Forgot password</a><a  href=\"/auth/oauth2/signup?success=cDfaX4SV7FsROHibvehTUEpRRuDeyYYwsKQDXb_3LmwpxZ0_IDB-ZnaVKedtC7dxcHHXfv2gUWqX1jpHopqnTSFzQHww5aK4tDrpI-tx8tHx1fC-JSJ-aHAd4IWH8dWMz8wphHGDNYePiNBqgMn6DXYUbRhc6Pe8l4L7ALi-wS0\" >Create account</a></p></form></section></div><script type=\\'text/javascript\\'>Globals={\"domain\": \"jawbone.com\", \"protocol\": \"https:\", \"language\": \"en-US\", \"display_locale\": \"en-US\", \"ajax_protocol\": \"https:\", \"cdn_asset_domains\": {\"media\": \"d3osil7svxrrgt.cloudfront.net\", \"obj\": \"dyzup8v06s4q5.cloudfront.net\", \"css\": \"dyzup8v06s4q5.cloudfront.net\", \"img\": \"dyzup8v06s4q5.cloudfront.net\", \"js\": \"dyzup8v06s4q5.cloudfront.net\"}, \"version_prefix\": \"//dyzup8v06s4q5.cloudfront.net/ver/v_10_54_19\", \"version\": \"v_10_54_19\", \"debug\": false, \"port\": \"\"}</script><script type=\"text/javascript\">(function(e,f){function h(a,b){this.moduleA=a', 'd.handleSourceError': 'function(a){var b=(a=a.target||a.srcElement)?a.src:null,c=g[a.data]', 'c[f]': 'c[f]||{}', '(b.readyState.toLowerCase()': '==\"loaded\"||b.readyState.toLowerCase()===\"complete\")', 'd.prototype': '\\n{_parseDependencies:function(){var a=this.dependencies,b=0,c=a.length,e', 'e.paste': 'j()', 'if(a': 'this._fn.apply(e.paste,b[1])){b=b[0]', 'if(this.hasDirtyRelations()){a': 'f.keys(this.moduleRelations)', 'this._isExternal': '\"js\"===a.substr(a.lastIndexOf(\".\") 1)||-1<a.lastIndexOf(\":\")||\"/\"===a.substr(0,1)', 'h.getAll': 'function(){var a=f.keys(g),b,c=a.length,d=[],e={},m=[],i=0,o=0', 'this.dependencies': 'a', 'b.charset': '\"utf-8\"', 'l.appendChild(a)}this.isLoading': 'true}}}', 'd.getURIFromName': 'function(a){if(a.length<1)throw Error(\"paste.require - please specify a correct module name and package hierarchy (empty string)\")', 'this.moduleB': 'b', 'b.data': 'this.name', 'e.paste.define': 'd.define', 'this.errorTimeout': 'null', 'this._fn': 'b', 'd._disposeSourceListeners': 'function(a,b){b.isLoading=false', 'for(b': '0', 'if(c.errorCount<': '5)c.errorTimeout=window.setTimeout(function(){c.load()},5E3)', 'this.errorCount': '0', 'a instanceof String)a': '[a]', 'd.getActivationParts': 'function(a,b){var c=function(a){var a=a.split(\".\"),b=0,d=a.length,c=window,e,f', 'b.type': '\"text/javascript\"', 'b[0][b[1]]': 'a}}this._cleanup()', 'for(i': '0', 'a._instanceStart': '(new Date).getTime()}return a},l=document.head||document.getElementsByTagName(\"head\")[0],p=!document.head,g={},k={}', 'n.trySatisfy()}if(this.hasDirtyRelations())return false}this._isActive': 'true', 'e.__paste__': 'j', 'e.paste.define.amd': '{multiversion:!1}', 'this.isLoaded': 'this.isLoading=this._isActive=!1', 'h.add': 'function(a,b){var c=new h(a,b)', 'this._key': 'null', '\\n</script><script type': '\"text/javascript\">(function(d,r){d(\\'paste.guid\\').isLoading=d(\\'paste.has\\').isLoading=d(\\'paste.oop\\').isLoading=d(\\'paste.util\\').isLoading=d(\\'polyfills.focusinout\\').isLoading=d(\\'paste.dom\\').isLoading=d(\\'paste.event\\').isLoading=d(\\'jawbone.ui.formvalidator\\').isLoading=d(\\'auth.oauth\\').isLoading=!0', 'c': 'c[f]}return[e,f,c]},d=c(a),e=[d[2]],f=0,g=b.length', 'a instanceof j)){a': 'new j', 'b.async': 'true', 'var b': '[],c', 'if(this._isExternal){a': 'a||[]', 'var a': '\\ndocument.createDocumentFragment(),b=document.createElement(\"script\")', 'e.paste.config': 'function(a){a.hasOwnProperty(\"packagesUrl\")', 'if(this._fn){b': 'd.getActivationParts(this.name,this.dependencies)', 'var j': 'e.__paste__||function(){var a=e.paste||this', 'this.moduleRelations': '{}', 'this.load()}this.isDefined': '\\ntypeof a===\"array\"||a!==null', 'a': '\"paste._internal$\" (new Date).getTime() ((1 Math.random())*65536|0).toString(16).substring(1)}if(typeof b===\"function\"||b!==null', 'f.isLoaded': 'true', 'this.isSatisfied': '!1}function d(a,b,c){this.name=a', 'b': '[]}g.hasOwnProperty(a)?\\ng[a].isDefined||g[a].define(b,c):g[a]=new d(a,b,c)', 'e': 'c', 'this.moduleRelations[e.getKey()]': 'e}},_cleanup:function(){delete this.moduleRelations', 'f': 'f 1)e.push(c(b[f])[2])', 'i': 'i 1)d.push(e[m[i]])}return d}', 'k': '{usePasteBuilder:!0,packagesUrl:\"/paste/\",executionContext:e.paste}', 'h.prototype': '{getKey:function(){if(!this._key)this._key=this.moduleA.name \"|\" this.moduleB.name', 'm': 'f.keys(e)', 'o': 'm.length', '(k.packagesUrl': 'a.packagesUrl)}', 'e.paste.require': 'function(a,b){if(typeof a===\"string\"||a!==null', 'b instanceof Function){c': 'b', 'this.define(b,c)}f.keys||(f.keys': 'function(a){if(a!==f(a))throw new TypeError(\"Object.keys called on a non-object\")', 'd.handleSourceSuccess': 'function(a){var a=a.target||a.srcElement,b=h.getAll(),c=b.length,e=0,f=g[a.data]', 'd.handleReadyStateChange': '\\nfunction(a){var b=a.target||a.srcElement', 'c.errorCount': 'c.errorCount \\n1', 'return this.isSatisfied},trySatisfy:function(){this.moduleB.isDefined?this.isSatisfied': 'this.moduleB.activate():this.moduleB.load()', 'b.src': 'this._isExternal?this.name:d.getURIFromName(this.name)'}\n",
        "https://jawbone.com/auth/oauth2/auth?response_type=code&client_id=RxOzz6tE38w&scope=basic_read&redirect_uri=https://sleepmodel.herokuapp.com/\n",
        "['status', 'content-length', 'set-cookie', 'accept-ranges', 'vary', 'server', 'connection', '-content-encoding', 'date', 'content-type']\n",
        "{'status': '200', 'content-length': '10621', 'set-cookie': 'aid=M35-P8lJr6eao9lgtk7Wt5htZEPJGZYSxvaylCb986L4h6g2bIaqxmkqFnKBRn429fWZ7pcubEo; Domain=jawbone.com; expires=Sun, 02 Dec 2018 00:00:00; Path=/', 'accept-ranges': 'bytes', 'vary': 'Accept-Encoding', 'server': 'nginx/1.2.7', 'connection': 'keep-alive', '-content-encoding': 'gzip', 'date': 'Mon, 09 Dec 2013 04:08:37 GMT', 'content-type': 'text/html; charset=utf-8'}\n"
       ]
      }
     ],
     "prompt_number": 74
    },
    {
     "cell_type": "code",
     "collapsed": false,
     "input": [
      "import unirest\n",
      "response = unirest.post(\"https://community-jawbone-up.p.mashape.com/users/@me/body_events\",\n",
      "  \n",
      "  headers={\n",
      "    \"Authorization\": \"<Authorization>\",\n",
      "    \"X-Mashape-Authorization\": \"<mashape-key>\"\n",
      "  },\n",
      "  params={ \n",
      "    \"title\": \"<title>\",\n",
      "    \"weight\": \"<weight>\",\n",
      "    \"body_fat\": \"<body_fat>\",\n",
      "    \"lean_mass\": \"<lean_mass>\",\n",
      "    \"bmi\": \"<bmi>\",\n",
      "    \"note\": \"<note>\",\n",
      "    \"image_url\": \"<image_url>\",\n",
      "    \"time_created\": \"<time_created>\",\n",
      "    \"tz\": \"<tz>\"\n",
      "  }\n",
      ");"
     ],
     "language": "python",
     "metadata": {},
     "outputs": [],
     "prompt_number": 70
    },
    {
     "cell_type": "code",
     "collapsed": false,
     "input": [
      "dir(response)"
     ],
     "language": "python",
     "metadata": {},
     "outputs": [
      {
       "metadata": {},
       "output_type": "pyout",
       "prompt_number": 9,
       "text": [
        "['__class__',\n",
        " '__delattr__',\n",
        " '__dict__',\n",
        " '__doc__',\n",
        " '__format__',\n",
        " '__getattribute__',\n",
        " '__hash__',\n",
        " '__init__',\n",
        " '__module__',\n",
        " '__new__',\n",
        " '__reduce__',\n",
        " '__reduce_ex__',\n",
        " '__repr__',\n",
        " '__setattr__',\n",
        " '__sizeof__',\n",
        " '__str__',\n",
        " '__subclasshook__',\n",
        " '__weakref__',\n",
        " '_body',\n",
        " '_code',\n",
        " '_headers',\n",
        " '_raw_body',\n",
        " 'body',\n",
        " 'code',\n",
        " 'headers',\n",
        " 'raw_body']"
       ]
      }
     ],
     "prompt_number": 9
    },
    {
     "cell_type": "code",
     "collapsed": false,
     "input": [
      "response.body"
     ],
     "language": "python",
     "metadata": {},
     "outputs": [
      {
       "metadata": {},
       "output_type": "pyout",
       "prompt_number": 10,
       "text": [
        "{u'message': u'Invalid Mashape key. If you are a Mashape user, get your key from your dashboard at https://www.mashape.com/login - To create a free Mashape account instead, go to https://www.mashape.com/signup'}"
       ]
      }
     ],
     "prompt_number": 10
    },
    {
     "cell_type": "code",
     "collapsed": false,
     "input": [],
     "language": "python",
     "metadata": {},
     "outputs": []
    }
   ],
   "metadata": {}
  }
 ]
}