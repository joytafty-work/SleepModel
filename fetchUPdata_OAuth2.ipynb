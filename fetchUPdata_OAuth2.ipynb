{
 "metadata": {
  "name": ""
 },
 "nbformat": 3,
 "nbformat_minor": 0,
 "worksheets": [
  {
   "cells": [
    {
     "cell_type": "code",
     "collapsed": false,
     "input": [
      "import httplib, ConfigParser, sys, os\n",
      "import oauth2 as oauth\n",
      "# config = ConfigParser.RawConfigParser()\n",
      "# SERVER = \"https://jawbone.com/auth/oauth2/auth\""
     ],
     "language": "python",
     "metadata": {},
     "outputs": [],
     "prompt_number": 3
    },
    {
     "cell_type": "code",
     "collapsed": false,
     "input": [
      "import os\n",
      "import oauth2 as oauth\n",
      "import urllib2\n",
      "import urlparse\n",
      "import cgi\n",
      "# consumer = oauth.Consumer(\n",
      "#     key    = 'RxOzz6tE38w',\n",
      "#     secret = '094c3ff0fcfc767e7a8789d5242fa56a48ae78bc')\n",
      "\n",
      "consumer = oauth.Consumer(key=os.getenv(\"UP_client_id\"), secret=os.getenv(\"UP_client_secret\"))\n",
      "\n",
      "# CLIENT_ID = \"RxOzz6tE38w\"\n",
      "# CLIENT_SECRET = \"094c3ff0fcfc767e7a8789d5242fa56a48ae78bc\"\n",
      "\n",
      "CLIENT_ID = os.getenv(\"UP_client_id\") \n",
      "CLIENT_SECRET = os.getenv(\"UP_client_secret\")\n",
      "REDIRECT_URI = \"https://sleepmodel.herokuapp.com/\"\n",
      "base_auth_url = 'https://jawbone.com/auth/oauth2/auth'\n",
      "base_token_url = 'https://jawbone.com/auth/oauth2/token'\n",
      "auth_url2 = 'https://jawbone.com/nudge/api/v.1.0/users/@me'\n",
      "auth_params = \"response_type=code&client_id=\" + CLIENT_ID + \"&scope=basic_read&redirect_uri=\" + REDIRECT_URI\n",
      "client = oauth.Client(consumer)\n",
      "\n",
      "auth_url1 = base_auth_url + \"?\" + auth_params\n",
      "print auth_url1\n",
      "\n",
      "# auth_url2 = base_token_url + \"?\" + token_params\n",
      "resp, content = client.request(auth_url1)\n",
      "# resp, content = client.request(auth_url1, headers={\"Authorization\": \"<Authorization>\"})\n",
      "# resp, content = client.request(auth_url1, \"POST\")\n",
      "print resp\n",
      "# print dict(urlparse.parse_qsl(content))\n",
      "# print dir(resp)\n",
      "# print resp.values()\n",
      "# print resp['content-location']\n",
      "# print resp['-content-encoding']\n",
      "# token_params = \"client_id=\" + CLIENT_ID + \"&client_secret=\" + CLIENT_SECRET  \"&grant_type=authorization_code\" + \"&code=\" \n",
      "# resp2, content2 = client,request\n",
      "\n",
      "print auth_url1\n",
      "print resp.keys()\n",
      "print resp['status']\n",
      "# print resp['content-location']\n",
      "# print resp.oauth_signature\n",
      "# print content"
     ],
     "language": "python",
     "metadata": {},
     "outputs": [
      {
       "output_type": "stream",
       "stream": "stdout",
       "text": [
        "https://jawbone.com/auth/oauth2/auth?response_type=code&client_id=RxOzz6tE38w&scope=basic_read&redirect_uri=https://sleepmodel.herokuapp.com/\n",
        "{'status': '200', 'content-length': '11261', 'content-location': u'https://jawbone.com/auth/oauth2/auth?oauth_body_hash=2jmj7l5rSw0yVb%2FvlWAYkK%2FYBwk%3D&oauth_nonce=43266057&oauth_timestamp=1386709514&oauth_consumer_key=RxOzz6tE38w&oauth_signature_method=HMAC-SHA1&oauth_version=1.0&redirect_uri=https%3A%2F%2Fsleepmodel.herokuapp.com%2F&response_type=code&client_id=RxOzz6tE38w&oauth_signature=kwnpkZTM4UbRhurGORKMn%2BUXpQw%3D&scope=basic_read', 'set-cookie': 'aid=M35-P8lJr6e3XDvMqp6YlcHBkZRT96scMCc6CwQ-5Pz4h6g2bIaqxmbOnuph9xymphYMyEkNo88; Domain=jawbone.com; expires=Tue, 04 Dec 2018 00:00:00; Path=/', 'accept-ranges': 'bytes', 'vary': 'Accept-Encoding', 'server': 'nginx/1.2.7', 'connection': 'keep-alive', '-content-encoding': 'gzip', 'date': 'Tue, 10 Dec 2013 21:05:15 GMT', 'content-type': 'text/html; charset=utf-8'}"
       ]
      },
      {
       "output_type": "stream",
       "stream": "stdout",
       "text": [
        "\n",
        "https://jawbone.com/auth/oauth2/auth?response_type=code&client_id=RxOzz6tE38w&scope=basic_read&redirect_uri=https://sleepmodel.herokuapp.com/\n",
        "['status', 'content-length', 'content-location', 'set-cookie', 'accept-ranges', 'vary', 'server', 'connection', '-content-encoding', 'date', 'content-type']\n",
        "200\n"
       ]
      }
     ],
     "prompt_number": 5
    },
    {
     "cell_type": "code",
     "collapsed": false,
     "input": [
      "import os\n",
      "import logging\n",
      "params = {\n",
      "          'response_type': 'code',\n",
      "          'client_id': os.getenv('UP_client_id'), \n",
      "          'redirect_url': REDIRECT_URI, \n",
      "#           'state': request.get.args.get('next'),\n",
      "          }\n",
      "logger = logging.getLogger(__name__)\n",
      "logger.debug('GET: %s' % request.args)\n"
     ],
     "language": "python",
     "metadata": {},
     "outputs": [
      {
       "ename": "NameError",
       "evalue": "name 'request' is not defined",
       "output_type": "pyerr",
       "traceback": [
        "\u001b[0;31m---------------------------------------------------------------------------\u001b[0m\n\u001b[0;31mNameError\u001b[0m                                 Traceback (most recent call last)",
        "\u001b[0;32m<ipython-input-6-daf29064f19e>\u001b[0m in \u001b[0;36m<module>\u001b[0;34m()\u001b[0m\n\u001b[1;32m      8\u001b[0m           }\n\u001b[1;32m      9\u001b[0m \u001b[0mlogger\u001b[0m \u001b[0;34m=\u001b[0m \u001b[0mlogging\u001b[0m\u001b[0;34m.\u001b[0m\u001b[0mgetLogger\u001b[0m\u001b[0;34m(\u001b[0m\u001b[0m__name__\u001b[0m\u001b[0;34m)\u001b[0m\u001b[0;34m\u001b[0m\u001b[0m\n\u001b[0;32m---> 10\u001b[0;31m \u001b[0mlogger\u001b[0m\u001b[0;34m.\u001b[0m\u001b[0mdebug\u001b[0m\u001b[0;34m(\u001b[0m\u001b[0;34m'GET: %s'\u001b[0m \u001b[0;34m%\u001b[0m \u001b[0mrequest\u001b[0m\u001b[0;34m.\u001b[0m\u001b[0margs\u001b[0m\u001b[0;34m)\u001b[0m\u001b[0;34m\u001b[0m\u001b[0m\n\u001b[0m",
        "\u001b[0;31mNameError\u001b[0m: name 'request' is not defined"
       ]
      }
     ],
     "prompt_number": 6
    },
    {
     "cell_type": "code",
     "collapsed": false,
     "input": [
      "import os\n",
      "CLIENT_ID = os.getenv(\"UP_client_id\")\n",
      "CLIENT_SECRET = os.getenv(\"UP_client_secret\")\n",
      "REDIRECT_URI = \"https://sleepmodel.herokuapp.com/\"\n",
      "base_auth_url = 'https://jawbone.com/auth/oauth2/auth'\n",
      "auth_params = \"response_type=code&client_id=\" + CLIENT_ID + \"&scope=basic_read&redirect_uri=\" + REDIRECT_URI\n",
      "base_token_url = 'https://jawbone.com/auth/oauth2/token'\n",
      "token_params = \"client_id=\" + CLIENT_ID + \"&client_secret=\" + CLIENT_SECRET + \"&grant_type=authorization_code\"\n",
      "# Get authentication url for request token\n",
      "auth_url = base_auth_url + \"?\" + auth_params\n",
      "# resp, content = client.request(base_auth_url)\n",
      "token_url = base_token_url + \"?\" + token_params\n",
      "\n",
      "from flask_oauth import OAuth \n",
      "oauth2 = OAuth()\n",
      "# dir(oauth)\n",
      "\n",
      "twitter = OAuth().remote_app('twitter',\n",
      "    base_url='https://api.twitter.com/1/',\n",
      "    request_token_url='https://api.twitter.com/oauth/request_token',\n",
      "    access_token_url='https://api.twitter.com/oauth/access_token',\n",
      "    authorize_url='https://api.twitter.com/oauth/authenticate',\n",
      "    consumer_key='<your key here>',\n",
      "    consumer_secret='<your secret here>'\n",
      ")\n",
      "\n",
      "sleepUP = OAuth().remote_app(\n",
      "        'sleepmodel', \n",
      "        base_url='https://jawbone.com/auth/oauth2/auth',\n",
      "        request_token_url=base_auth_url,\n",
      "        access_token_url=base_token_url,\n",
      "        authorize_url=base_token_url,\n",
      "        consumer_key=os.getenv(\"UP_client_id\"),\n",
      "        consumer_secret=os.getenv(\"UP_client_secret\")\n",
      "        )"
     ],
     "language": "python",
     "metadata": {},
     "outputs": [],
     "prompt_number": 8
    },
    {
     "cell_type": "code",
     "collapsed": false,
     "input": [
      "print sleepUP"
     ],
     "language": "python",
     "metadata": {},
     "outputs": [
      {
       "output_type": "stream",
       "stream": "stdout",
       "text": [
        "<flask_oauth.OAuthRemoteApp object at 0x10c30b290>\n"
       ]
      }
     ],
     "prompt_number": 2
    },
    {
     "cell_type": "code",
     "collapsed": false,
     "input": [],
     "language": "python",
     "metadata": {},
     "outputs": [],
     "prompt_number": 2
    },
    {
     "cell_type": "code",
     "collapsed": false,
     "input": [],
     "language": "python",
     "metadata": {},
     "outputs": [],
     "prompt_number": 12
    },
    {
     "cell_type": "code",
     "collapsed": false,
     "input": [],
     "language": "python",
     "metadata": {},
     "outputs": []
    }
   ],
   "metadata": {}
  }
 ]
}